{
 "cells": [
  {
   "cell_type": "code",
   "execution_count": 1,
   "metadata": {},
   "outputs": [],
   "source": [
    "import itertools\n",
    "import random\n",
    "\n",
    "import numpy as np\n",
    "import pandas as pd\n",
    "import matplotlib.pylab as plt\n",
    "import seaborn as sns\n",
    "from scipy.special import softmax"
   ]
  },
  {
   "cell_type": "code",
   "execution_count": 2,
   "metadata": {},
   "outputs": [],
   "source": [
    "%load_ext autoreload\n",
    "%autoreload 2"
   ]
  },
  {
   "cell_type": "code",
   "execution_count": 3,
   "metadata": {},
   "outputs": [],
   "source": [
    "import simulations\n",
    "import visualizations"
   ]
  },
  {
   "cell_type": "markdown",
   "metadata": {},
   "source": [
    "# Defining Worlds and Actions"
   ]
  },
  {
   "cell_type": "markdown",
   "metadata": {},
   "source": [
    "#### Defining All Possible Actions\n",
    "Given a list of shapes and colors (which define features $\\phi$), produce all possible actions $\\cal{A}$. This implements Eq. 10 from the paper: \n",
    "$$\n",
    "\\phi: A \\rightarrow \\{0,1\\}^K\n",
    "$$"
   ]
  },
  {
   "cell_type": "code",
   "execution_count": 4,
   "metadata": {},
   "outputs": [
    {
     "name": "stdout",
     "output_type": "stream",
     "text": [
      "All possible actions: [('blue', 'circle'), ('blue', 'square'), ('green', 'circle'), ('green', 'square')]\n"
     ]
    }
   ],
   "source": [
    "test_colors = ['blue', 'green']\n",
    "test_shapes = ['circle', 'square']\n",
    "test_actions = simulations.generate_actions_from_features(test_colors, test_shapes)\n",
    "\n",
    "print(\"All possible actions: {}\".format(test_actions))"
   ]
  },
  {
   "cell_type": "code",
   "execution_count": 5,
   "metadata": {},
   "outputs": [
    {
     "data": {
      "text/html": [
       "<div>\n",
       "<style scoped>\n",
       "    .dataframe tbody tr th:only-of-type {\n",
       "        vertical-align: middle;\n",
       "    }\n",
       "\n",
       "    .dataframe tbody tr th {\n",
       "        vertical-align: top;\n",
       "    }\n",
       "\n",
       "    .dataframe thead th {\n",
       "        text-align: right;\n",
       "    }\n",
       "</style>\n",
       "<table border=\"1\" class=\"dataframe\">\n",
       "  <thead>\n",
       "    <tr style=\"text-align: right;\">\n",
       "      <th></th>\n",
       "      <th>green</th>\n",
       "      <th>circle</th>\n",
       "      <th>blue</th>\n",
       "      <th>square</th>\n",
       "    </tr>\n",
       "  </thead>\n",
       "  <tbody>\n",
       "    <tr>\n",
       "      <th>green circle</th>\n",
       "      <td>1.0</td>\n",
       "      <td>1.0</td>\n",
       "      <td>0.0</td>\n",
       "      <td>0.0</td>\n",
       "    </tr>\n",
       "    <tr>\n",
       "      <th>blue circle</th>\n",
       "      <td>0.0</td>\n",
       "      <td>1.0</td>\n",
       "      <td>1.0</td>\n",
       "      <td>0.0</td>\n",
       "    </tr>\n",
       "    <tr>\n",
       "      <th>green square</th>\n",
       "      <td>1.0</td>\n",
       "      <td>0.0</td>\n",
       "      <td>0.0</td>\n",
       "      <td>1.0</td>\n",
       "    </tr>\n",
       "  </tbody>\n",
       "</table>\n",
       "</div>"
      ],
      "text/plain": [
       "              green  circle  blue  square\n",
       "green circle    1.0     1.0   0.0     0.0\n",
       "blue circle     0.0     1.0   1.0     0.0\n",
       "green square    1.0     0.0   0.0     1.0"
      ]
     },
     "execution_count": 5,
     "metadata": {},
     "output_type": "execute_result"
    }
   ],
   "source": [
    "test_action_context = simulations.generate_context_from_actions([(\"green\", \"circle\"), (\"blue\", \"circle\"), (\"green\", \"square\")])\n",
    "test_action_context"
   ]
  },
  {
   "cell_type": "markdown",
   "metadata": {},
   "source": [
    "#### Possible Worlds\n",
    "\n",
    "Generate a dataframe of all possible world states $w$. This is all combinatoric feature-value sets.  "
   ]
  },
  {
   "cell_type": "code",
   "execution_count": 6,
   "metadata": {},
   "outputs": [
    {
     "data": {
      "text/html": [
       "<div>\n",
       "<style scoped>\n",
       "    .dataframe tbody tr th:only-of-type {\n",
       "        vertical-align: middle;\n",
       "    }\n",
       "\n",
       "    .dataframe tbody tr th {\n",
       "        vertical-align: top;\n",
       "    }\n",
       "\n",
       "    .dataframe thead th {\n",
       "        text-align: right;\n",
       "    }\n",
       "</style>\n",
       "<table border=\"1\" class=\"dataframe\">\n",
       "  <thead>\n",
       "    <tr style=\"text-align: right;\">\n",
       "      <th></th>\n",
       "      <th>blue</th>\n",
       "      <th>green</th>\n",
       "      <th>circle</th>\n",
       "      <th>square</th>\n",
       "    </tr>\n",
       "  </thead>\n",
       "  <tbody>\n",
       "    <tr>\n",
       "      <th>0</th>\n",
       "      <td>-1</td>\n",
       "      <td>-1</td>\n",
       "      <td>-1</td>\n",
       "      <td>-1</td>\n",
       "    </tr>\n",
       "    <tr>\n",
       "      <th>1</th>\n",
       "      <td>-1</td>\n",
       "      <td>-1</td>\n",
       "      <td>-1</td>\n",
       "      <td>1</td>\n",
       "    </tr>\n",
       "    <tr>\n",
       "      <th>2</th>\n",
       "      <td>-1</td>\n",
       "      <td>-1</td>\n",
       "      <td>1</td>\n",
       "      <td>-1</td>\n",
       "    </tr>\n",
       "    <tr>\n",
       "      <th>3</th>\n",
       "      <td>-1</td>\n",
       "      <td>-1</td>\n",
       "      <td>1</td>\n",
       "      <td>1</td>\n",
       "    </tr>\n",
       "    <tr>\n",
       "      <th>4</th>\n",
       "      <td>-1</td>\n",
       "      <td>1</td>\n",
       "      <td>-1</td>\n",
       "      <td>-1</td>\n",
       "    </tr>\n",
       "  </tbody>\n",
       "</table>\n",
       "</div>"
      ],
      "text/plain": [
       "   blue  green  circle  square\n",
       "0    -1     -1      -1      -1\n",
       "1    -1     -1      -1       1\n",
       "2    -1     -1       1      -1\n",
       "3    -1     -1       1       1\n",
       "4    -1      1      -1      -1"
      ]
     },
     "execution_count": 6,
     "metadata": {},
     "output_type": "execute_result"
    }
   ],
   "source": [
    "test_features = test_colors + test_shapes\n",
    "test_values = [-1, 1]\n",
    "\n",
    "test_worlds = simulations.generate_worlds_from_feature_values(test_features, test_values)\n",
    "test_worlds.head()"
   ]
  },
  {
   "cell_type": "markdown",
   "metadata": {},
   "source": [
    "# Literal Listener: Beliefs and Actions"
   ]
  },
  {
   "cell_type": "markdown",
   "metadata": {},
   "source": [
    "#### Belief Updates\n",
    "Given a message $u$ which consists of a feature-value tuple $(\\phi, \\mathbb{R})$, condition worlds $w$ and return only those with are literally consistent with that utterance. This implements Eq. 3 / 11 from the paper:\n",
    "\n",
    "\n",
    "\\begin{equation}\n",
    "    P_L(w \\mid u) \\propto \\delta_{[ u ] (w)} P(w)\n",
    "\\end{equation} \n",
    "\n",
    "$$\n",
    "p_L(w_L \\mid u) = p_L(w_L \\mid u_{\\mathbb{1}_K} =  u_{\\mathbb{R}})\n",
    "$$"
   ]
  },
  {
   "cell_type": "code",
   "execution_count": 7,
   "metadata": {},
   "outputs": [
    {
     "name": "stdout",
     "output_type": "stream",
     "text": [
      "Before conditioning, 16 possible worlds.\n",
      "After conditioning, 8 possible worlds.\n"
     ]
    },
    {
     "data": {
      "text/html": [
       "<div>\n",
       "<style scoped>\n",
       "    .dataframe tbody tr th:only-of-type {\n",
       "        vertical-align: middle;\n",
       "    }\n",
       "\n",
       "    .dataframe tbody tr th {\n",
       "        vertical-align: top;\n",
       "    }\n",
       "\n",
       "    .dataframe thead th {\n",
       "        text-align: right;\n",
       "    }\n",
       "</style>\n",
       "<table border=\"1\" class=\"dataframe\">\n",
       "  <thead>\n",
       "    <tr style=\"text-align: right;\">\n",
       "      <th></th>\n",
       "      <th>blue</th>\n",
       "      <th>green</th>\n",
       "      <th>circle</th>\n",
       "      <th>square</th>\n",
       "      <th>probability</th>\n",
       "    </tr>\n",
       "  </thead>\n",
       "  <tbody>\n",
       "    <tr>\n",
       "      <th>4</th>\n",
       "      <td>-1</td>\n",
       "      <td>1</td>\n",
       "      <td>-1</td>\n",
       "      <td>-1</td>\n",
       "      <td>0.125</td>\n",
       "    </tr>\n",
       "    <tr>\n",
       "      <th>5</th>\n",
       "      <td>-1</td>\n",
       "      <td>1</td>\n",
       "      <td>-1</td>\n",
       "      <td>1</td>\n",
       "      <td>0.125</td>\n",
       "    </tr>\n",
       "    <tr>\n",
       "      <th>6</th>\n",
       "      <td>-1</td>\n",
       "      <td>1</td>\n",
       "      <td>1</td>\n",
       "      <td>-1</td>\n",
       "      <td>0.125</td>\n",
       "    </tr>\n",
       "    <tr>\n",
       "      <th>7</th>\n",
       "      <td>-1</td>\n",
       "      <td>1</td>\n",
       "      <td>1</td>\n",
       "      <td>1</td>\n",
       "      <td>0.125</td>\n",
       "    </tr>\n",
       "    <tr>\n",
       "      <th>12</th>\n",
       "      <td>1</td>\n",
       "      <td>1</td>\n",
       "      <td>-1</td>\n",
       "      <td>-1</td>\n",
       "      <td>0.125</td>\n",
       "    </tr>\n",
       "  </tbody>\n",
       "</table>\n",
       "</div>"
      ],
      "text/plain": [
       "    blue  green  circle  square  probability\n",
       "4     -1      1      -1      -1        0.125\n",
       "5     -1      1      -1       1        0.125\n",
       "6     -1      1       1      -1        0.125\n",
       "7     -1      1       1       1        0.125\n",
       "12     1      1      -1      -1        0.125"
      ]
     },
     "execution_count": 7,
     "metadata": {},
     "output_type": "execute_result"
    }
   ],
   "source": [
    "from listeners import StatelessLiteralListener\n",
    "\n",
    "# Condition on a message\n",
    "test_message = ('green', 1)\n",
    "test_beliefs = StatelessLiteralListener.condition_worlds_on_message(test_worlds, test_message)\n",
    "\n",
    "print(\"Before conditioning, {} possible worlds.\".format(len(test_worlds)))\n",
    "print(\"After conditioning, {} possible worlds.\".format(len(test_beliefs)))\n",
    "test_beliefs.head()"
   ]
  },
  {
   "cell_type": "markdown",
   "metadata": {},
   "source": [
    "#### Listener Rewards\n",
    "\n",
    "Given an action dataframe $A$ and beliefs about rewards $w$, assign rewards to all actions. \n",
    "\n",
    "This implements Eq. 11 from the paper:\n",
    "\n",
    "$$\n",
    "R(a, w) = w^\\top\\phi(a)\n",
    "$$\n",
    "\n",
    "It can be called with either a Pandas `Series` or `DataFrame`. If `DataFrame`, will marginalize over beliefs and return expected rewards."
   ]
  },
  {
   "cell_type": "code",
   "execution_count": 8,
   "metadata": {},
   "outputs": [
    {
     "name": "stdout",
     "output_type": "stream",
     "text": [
      "Index(['green circle', 'blue circle', 'green square'], dtype='object')\n"
     ]
    },
    {
     "data": {
      "text/plain": [
       "array([2., 0., 0.])"
      ]
     },
     "execution_count": 8,
     "metadata": {},
     "output_type": "execute_result"
    }
   ],
   "source": [
    "rewards = pd.Series({\"blue\": -1, \"green\": 1, \"circle\": 1, \"square\": -1})\n",
    "print(test_action_context.index)\n",
    "StatelessLiteralListener.estimate_rewards(rewards, test_action_context)"
   ]
  },
  {
   "cell_type": "code",
   "execution_count": 9,
   "metadata": {},
   "outputs": [
    {
     "name": "stdout",
     "output_type": "stream",
     "text": [
      "Index(['green circle', 'blue circle', 'green square'], dtype='object')\n"
     ]
    },
    {
     "data": {
      "text/plain": [
       "array([1., 0., 1.])"
      ]
     },
     "execution_count": 9,
     "metadata": {},
     "output_type": "execute_result"
    }
   ],
   "source": [
    "# With a belief dataframe from before:\n",
    "print(test_action_context.index)\n",
    "StatelessLiteralListener.estimate_rewards(test_beliefs, test_action_context)"
   ]
  },
  {
   "cell_type": "markdown",
   "metadata": {},
   "source": [
    "#### Listener Policy\n",
    "Given the listener's belief distribution and available actions, calculate their distribution over possible actions.\n",
    "\n",
    "This implements Eq. 4 and 5 from the paper, \n",
    "\n",
    "\n",
    "\\begin{equation}\n",
    "    R_L(a, u) = \\sum_{W}  R(a, w) P_L(w \\mid u)\n",
    "\\end{equation}\n",
    "\n",
    "$$\n",
    "    \\pi_L(a \\mid u, A) = \\frac{\n",
    "    \\exp\\{\\beta_L \\cdot R_L(a, u)\\}\n",
    "}{\n",
    "\\sum_{a' \\in A} \\exp\\{\\beta_L \\cdot R_L(a', u) \\}\n",
    "}\n",
    "$$"
   ]
  },
  {
   "cell_type": "code",
   "execution_count": 10,
   "metadata": {},
   "outputs": [
    {
     "data": {
      "text/html": [
       "<div>\n",
       "<style scoped>\n",
       "    .dataframe tbody tr th:only-of-type {\n",
       "        vertical-align: middle;\n",
       "    }\n",
       "\n",
       "    .dataframe tbody tr th {\n",
       "        vertical-align: top;\n",
       "    }\n",
       "\n",
       "    .dataframe thead th {\n",
       "        text-align: right;\n",
       "    }\n",
       "</style>\n",
       "<table border=\"1\" class=\"dataframe\">\n",
       "  <thead>\n",
       "    <tr style=\"text-align: right;\">\n",
       "      <th></th>\n",
       "      <th>green</th>\n",
       "      <th>circle</th>\n",
       "      <th>blue</th>\n",
       "      <th>square</th>\n",
       "      <th>listener_reward</th>\n",
       "      <th>listener_choice_prob</th>\n",
       "    </tr>\n",
       "  </thead>\n",
       "  <tbody>\n",
       "    <tr>\n",
       "      <th>green circle</th>\n",
       "      <td>1.0</td>\n",
       "      <td>1.0</td>\n",
       "      <td>0.0</td>\n",
       "      <td>0.0</td>\n",
       "      <td>1.0</td>\n",
       "      <td>0.487856</td>\n",
       "    </tr>\n",
       "    <tr>\n",
       "      <th>blue circle</th>\n",
       "      <td>0.0</td>\n",
       "      <td>1.0</td>\n",
       "      <td>1.0</td>\n",
       "      <td>0.0</td>\n",
       "      <td>0.0</td>\n",
       "      <td>0.024289</td>\n",
       "    </tr>\n",
       "    <tr>\n",
       "      <th>green square</th>\n",
       "      <td>1.0</td>\n",
       "      <td>0.0</td>\n",
       "      <td>0.0</td>\n",
       "      <td>1.0</td>\n",
       "      <td>1.0</td>\n",
       "      <td>0.487856</td>\n",
       "    </tr>\n",
       "  </tbody>\n",
       "</table>\n",
       "</div>"
      ],
      "text/plain": [
       "              green  circle  blue  square  listener_reward  \\\n",
       "green circle    1.0     1.0   0.0     0.0              1.0   \n",
       "blue circle     0.0     1.0   1.0     0.0              0.0   \n",
       "green square    1.0     0.0   0.0     1.0              1.0   \n",
       "\n",
       "              listener_choice_prob  \n",
       "green circle              0.487856  \n",
       "blue circle               0.024289  \n",
       "green square              0.487856  "
      ]
     },
     "execution_count": 10,
     "metadata": {},
     "output_type": "execute_result"
    }
   ],
   "source": [
    "literal_listener = StatelessLiteralListener(3, test_features, test_worlds)\n",
    "\n",
    "test_message = ('green', 1)\n",
    "literal_listener.action_policy(test_message, test_action_context)"
   ]
  },
  {
   "cell_type": "code",
   "execution_count": 11,
   "metadata": {},
   "outputs": [
    {
     "data": {
      "text/html": [
       "<div>\n",
       "<style scoped>\n",
       "    .dataframe tbody tr th:only-of-type {\n",
       "        vertical-align: middle;\n",
       "    }\n",
       "\n",
       "    .dataframe tbody tr th {\n",
       "        vertical-align: top;\n",
       "    }\n",
       "\n",
       "    .dataframe thead th {\n",
       "        text-align: right;\n",
       "    }\n",
       "</style>\n",
       "<table border=\"1\" class=\"dataframe\">\n",
       "  <thead>\n",
       "    <tr style=\"text-align: right;\">\n",
       "      <th></th>\n",
       "      <th>green</th>\n",
       "      <th>circle</th>\n",
       "      <th>blue</th>\n",
       "      <th>square</th>\n",
       "      <th>listener_reward</th>\n",
       "      <th>listener_choice_prob</th>\n",
       "    </tr>\n",
       "  </thead>\n",
       "  <tbody>\n",
       "    <tr>\n",
       "      <th>green circle</th>\n",
       "      <td>1.0</td>\n",
       "      <td>1.0</td>\n",
       "      <td>0.0</td>\n",
       "      <td>0.0</td>\n",
       "      <td>0.0</td>\n",
       "      <td>0.045279</td>\n",
       "    </tr>\n",
       "    <tr>\n",
       "      <th>blue circle</th>\n",
       "      <td>0.0</td>\n",
       "      <td>1.0</td>\n",
       "      <td>1.0</td>\n",
       "      <td>0.0</td>\n",
       "      <td>1.0</td>\n",
       "      <td>0.909443</td>\n",
       "    </tr>\n",
       "    <tr>\n",
       "      <th>green square</th>\n",
       "      <td>1.0</td>\n",
       "      <td>0.0</td>\n",
       "      <td>0.0</td>\n",
       "      <td>1.0</td>\n",
       "      <td>0.0</td>\n",
       "      <td>0.045279</td>\n",
       "    </tr>\n",
       "  </tbody>\n",
       "</table>\n",
       "</div>"
      ],
      "text/plain": [
       "              green  circle  blue  square  listener_reward  \\\n",
       "green circle    1.0     1.0   0.0     0.0              0.0   \n",
       "blue circle     0.0     1.0   1.0     0.0              1.0   \n",
       "green square    1.0     0.0   0.0     1.0              0.0   \n",
       "\n",
       "              listener_choice_prob  \n",
       "green circle              0.045279  \n",
       "blue circle               0.909443  \n",
       "green square              0.045279  "
      ]
     },
     "execution_count": 11,
     "metadata": {},
     "output_type": "execute_result"
    }
   ],
   "source": [
    "test_message = ('blue', 1)\n",
    "literal_listener.action_policy(test_message, test_action_context)"
   ]
  },
  {
   "cell_type": "markdown",
   "metadata": {},
   "source": [
    "# Speaker Models\n",
    "\n",
    "All of the speaker models implement `BaseSpeaker`, and take an utterance and action context to calculate a utility for that utterance.\n",
    "\n",
    "These utilities are used to choose utterances."
   ]
  },
  {
   "cell_type": "markdown",
   "metadata": {},
   "source": [
    "### Belief-Oriented Speaker\n",
    "The belief-oriented speaker optimizes the probability of a literal listener inferring the true world state.\n",
    "\n",
    "From the paper, this is Eqs. 2 and 3:  \n",
    "\n",
    "\\begin{equation}\n",
    "    U_\\text{Belief}(u \\mid w) = \\log P_L(w \\mid u)\n",
    "\\end{equation}"
   ]
  },
  {
   "cell_type": "code",
   "execution_count": 12,
   "metadata": {},
   "outputs": [],
   "source": [
    "from speakers import BeliefSpeaker, ActionSpeaker, CombinedSpeaker"
   ]
  },
  {
   "cell_type": "code",
   "execution_count": 13,
   "metadata": {},
   "outputs": [
    {
     "name": "stdout",
     "output_type": "stream",
     "text": [
      "Belief speaker utility:\n",
      "\t('green', 1): -2.0794415416798357\n",
      "\t('blue', 1): -23.025850929940457\n"
     ]
    }
   ],
   "source": [
    "test_rewards = pd.Series({\"green\": 1, \"blue\": -1, \"circle\": 1, \"square\": -1})\n",
    "bad_message = (\"blue\", 1)\n",
    "good_message = (\"green\", 1)\n",
    "\n",
    "test_belief_speaker = BeliefSpeaker(literal_listener, beta=3, w=test_rewards, name=\"Belief\")\n",
    "\n",
    "good_utility = test_belief_speaker.utility(good_message, test_action_context)\n",
    "bad_utility = test_belief_speaker.utility(bad_message, test_action_context)\n",
    "\n",
    "print(\"Belief speaker utility:\")\n",
    "print(\"\\t{}: {}\".format(good_message, good_utility))\n",
    "print(\"\\t{}: {}\".format(bad_message, bad_utility))"
   ]
  },
  {
   "cell_type": "markdown",
   "metadata": {},
   "source": [
    "## Action-Oriented Speaker\n",
    "Will choose based on probability of the single best action. \n",
    "\n",
    "From the paper, this is Eq. 6 and 7:\n",
    "$$\n",
    "a^* \\triangleq \\text{argmax}_{a\\in A} R(a, w)\n",
    "$$\n",
    "\n",
    "$$\n",
    "U_\\text{Action}(u \\mid A, a^*) = \\log[\\pi_L(a^* \\mid u, A)]\n",
    "$$"
   ]
  },
  {
   "cell_type": "code",
   "execution_count": 14,
   "metadata": {},
   "outputs": [
    {
     "name": "stdout",
     "output_type": "stream",
     "text": [
      "Action speaker utility:\n",
      "\t('green', 1): -0.7177359186667025\n",
      "\t('blue', 1): -3.0949229564209606\n"
     ]
    }
   ],
   "source": [
    "test_action_speaker = ActionSpeaker(literal_listener, beta=3, w=test_rewards, name=\"Action\")\n",
    "\n",
    "good_utility = test_action_speaker.utility(good_message, test_action_context)\n",
    "bad_utility = test_action_speaker.utility(bad_message, test_action_context)\n",
    "\n",
    "print(\"Action speaker utility:\")\n",
    "print(\"\\t{}: {}\".format(good_message, good_utility))\n",
    "print(\"\\t{}: {}\".format(bad_message, bad_utility))"
   ]
  },
  {
   "cell_type": "markdown",
   "metadata": {},
   "source": [
    "## Combined Speaker\n",
    "Will choose based on expected utility of actions. This implements Eq. 8 and 9 from the paper:\n",
    "\n",
    "\\begin{equation}\n",
    "    R_S(u, w, A) = \\sum_{a \\in A} \\pi_L(a \\mid u, A) R(a, w)\n",
    "\\end{equation}\n",
    "\n",
    "\\begin{equation}\n",
    "U_\\text{Combined}(u \\mid A, w) = R_S(u,w, A)\n",
    "\\end{equation}  "
   ]
  },
  {
   "cell_type": "code",
   "execution_count": 15,
   "metadata": {},
   "outputs": [
    {
     "name": "stdout",
     "output_type": "stream",
     "text": [
      "Action speaker utility:\n",
      "\t('green', 1): 0.9757111023207369\n",
      "\t('blue', 1): 0.09055700148725816\n"
     ]
    }
   ],
   "source": [
    "test_combined_speaker = CombinedSpeaker(literal_listener, beta=3, w=test_rewards, name=\"Combined\")\n",
    "\n",
    "good_utility = test_combined_speaker.utility(good_message, test_action_context)\n",
    "bad_utility = test_combined_speaker.utility(bad_message, test_action_context)\n",
    "\n",
    "print(\"Action speaker utility:\")\n",
    "print(\"\\t{}: {}\".format(good_message, good_utility))\n",
    "print(\"\\t{}: {}\".format(bad_message, bad_utility))"
   ]
  },
  {
   "cell_type": "markdown",
   "metadata": {},
   "source": [
    "# Experiment 1: Reference Games"
   ]
  },
  {
   "cell_type": "code",
   "execution_count": 16,
   "metadata": {},
   "outputs": [],
   "source": [
    "# Define our set of shapes / colors\n",
    "exp_1_colors = ['blue', 'green']\n",
    "exp_1_shapes = ['circle', 'square']\n",
    "\n",
    "# Define and plot our reward vector\n",
    "exp_1_rewards = pd.Series({\"green\": 100, \"circle\": 100, \"blue\": -100, \"square\": -100})\n",
    "\n",
    "# Restrict allowable utterances\n",
    "exp_1_utterances = [('blue', 100), ('circle', 100), ('green', 100), ('square', 100)]\n",
    "\n",
    "# Define the decision set\n",
    "exp_1_action_tuples = [('blue', 'circle'), ('green', 'square'), ('green', 'circle')]\n",
    "exp_1_action_context = simulations.generate_context_from_actions(exp_1_action_tuples)"
   ]
  },
  {
   "cell_type": "code",
   "execution_count": 17,
   "metadata": {},
   "outputs": [
    {
     "data": {
      "text/html": [
       "<div>\n",
       "<style scoped>\n",
       "    .dataframe tbody tr th:only-of-type {\n",
       "        vertical-align: middle;\n",
       "    }\n",
       "\n",
       "    .dataframe tbody tr th {\n",
       "        vertical-align: top;\n",
       "    }\n",
       "\n",
       "    .dataframe thead th {\n",
       "        text-align: right;\n",
       "    }\n",
       "</style>\n",
       "<table border=\"1\" class=\"dataframe\">\n",
       "  <thead>\n",
       "    <tr style=\"text-align: right;\">\n",
       "      <th></th>\n",
       "      <th>speaker</th>\n",
       "      <th>action_context</th>\n",
       "      <th>prob_truthful</th>\n",
       "      <th>prob_optimal_action</th>\n",
       "      <th>expected_rewards</th>\n",
       "    </tr>\n",
       "  </thead>\n",
       "  <tbody>\n",
       "    <tr>\n",
       "      <th>0</th>\n",
       "      <td>Belief</td>\n",
       "      <td>All</td>\n",
       "      <td>1.0</td>\n",
       "      <td>0.5</td>\n",
       "      <td>100.0</td>\n",
       "    </tr>\n",
       "    <tr>\n",
       "      <th>1</th>\n",
       "      <td>Action</td>\n",
       "      <td>All</td>\n",
       "      <td>1.0</td>\n",
       "      <td>0.5</td>\n",
       "      <td>100.0</td>\n",
       "    </tr>\n",
       "    <tr>\n",
       "      <th>2</th>\n",
       "      <td>Combined</td>\n",
       "      <td>All</td>\n",
       "      <td>1.0</td>\n",
       "      <td>0.5</td>\n",
       "      <td>100.0</td>\n",
       "    </tr>\n",
       "  </tbody>\n",
       "</table>\n",
       "</div>"
      ],
      "text/plain": [
       "    speaker action_context  prob_truthful  prob_optimal_action  \\\n",
       "0    Belief            All            1.0                  0.5   \n",
       "1    Action            All            1.0                  0.5   \n",
       "2  Combined            All            1.0                  0.5   \n",
       "\n",
       "   expected_rewards  \n",
       "0             100.0  \n",
       "1             100.0  \n",
       "2             100.0  "
      ]
     },
     "execution_count": 17,
     "metadata": {},
     "output_type": "execute_result"
    }
   ],
   "source": [
    "exp_1_features = exp_1_colors + exp_1_shapes\n",
    "exp_1_worlds = simulations.generate_worlds_from_feature_values(exp_1_features, exp_1_rewards.unique())\n",
    "\n",
    "exp_1_listener = StatelessLiteralListener(beta=3, features=exp_1_features, possible_worlds=exp_1_worlds)\n",
    "\n",
    "exp_1_belief_speaker = BeliefSpeaker(exp_1_listener, beta=3, w=exp_1_rewards, name=\"Belief\")\n",
    "exp_1_action_speaker = ActionSpeaker(exp_1_listener, beta=3, w=exp_1_rewards, name=\"Action\")\n",
    "exp_1_combined_speaker = CombinedSpeaker(exp_1_listener, beta=2, w=exp_1_rewards, name=\"Combined\")\n",
    "\n",
    "exp_1_speakers = [exp_1_belief_speaker, exp_1_action_speaker, exp_1_combined_speaker]\n",
    "\n",
    "df = simulations.speakers_utterance_probabilities_single_action_context(exp_1_action_context, exp_1_speakers, exp_1_utterances, exp_1_rewards)\n",
    "simulations.summarize_speakers_performance(df, exp_1_speakers)"
   ]
  },
  {
   "cell_type": "markdown",
   "metadata": {},
   "source": [
    "# Experiment 2: Single-Shot Bandits"
   ]
  },
  {
   "cell_type": "code",
   "execution_count": 18,
   "metadata": {},
   "outputs": [],
   "source": [
    "# Define our set of shapes / colors\n",
    "exp_2_colors = ['blue', 'green', 'red']\n",
    "exp_2_shapes = ['circle', 'square', 'triangle']\n",
    "exp_2_features = exp_2_colors + exp_2_shapes\n",
    "\n",
    "# Generate action contexts\n",
    "exp_2_actions = simulations.generate_actions_from_features(exp_2_colors, exp_2_shapes)\n",
    "exp_2_action_contexts = list(itertools.combinations(exp_2_actions, 3))\n",
    "\n",
    "# Define and our reward vector\n",
    "exp_2_rewards = pd.Series({\"green\": 2, \"red\": 0,  \"blue\": -2, \"circle\": 1, \"triangle\": 0, \"square\": -1})\n",
    "\n",
    "# Define allowable utterances as all valid feature / value tuples\n",
    "exp_2_utterances = list(itertools.product(exp_2_features, exp_2_rewards.unique()))\n",
    "\n",
    "# Define a listener\n",
    "exp_2_worlds = simulations.generate_worlds_from_feature_values(exp_2_features, exp_2_rewards.unique())\n",
    "exp_2_listener = StatelessLiteralListener(beta=3, features=exp_2_features, possible_worlds=exp_2_worlds)\n",
    "\n",
    "exp_2_belief_speaker = BeliefSpeaker(exp_2_listener, beta=3, w=exp_2_rewards, name=\"Belief\")\n",
    "exp_2_action_speaker = ActionSpeaker(exp_2_listener, beta=3, w=exp_2_rewards, name=\"Action\")\n",
    "exp_2_combined_speaker = CombinedSpeaker(exp_2_listener, beta=2, w=exp_2_rewards, name=\"Combined\")\n",
    "\n",
    "exp_2_speakers = [exp_2_belief_speaker, exp_2_action_speaker, exp_2_combined_speaker]"
   ]
  },
  {
   "cell_type": "code",
   "execution_count": 19,
   "metadata": {},
   "outputs": [
    {
     "data": {
      "text/html": [
       "<div>\n",
       "<style scoped>\n",
       "    .dataframe tbody tr th:only-of-type {\n",
       "        vertical-align: middle;\n",
       "    }\n",
       "\n",
       "    .dataframe tbody tr th {\n",
       "        vertical-align: top;\n",
       "    }\n",
       "\n",
       "    .dataframe thead th {\n",
       "        text-align: right;\n",
       "    }\n",
       "</style>\n",
       "<table border=\"1\" class=\"dataframe\">\n",
       "  <thead>\n",
       "    <tr style=\"text-align: right;\">\n",
       "      <th></th>\n",
       "      <th>speaker</th>\n",
       "      <th>action_context</th>\n",
       "      <th>prob_truthful</th>\n",
       "      <th>prob_optimal_action</th>\n",
       "      <th>expected_rewards</th>\n",
       "    </tr>\n",
       "  </thead>\n",
       "  <tbody>\n",
       "    <tr>\n",
       "      <th>0</th>\n",
       "      <td>Belief</td>\n",
       "      <td>All</td>\n",
       "      <td>1.000000</td>\n",
       "      <td>0.482780</td>\n",
       "      <td>-0.052623</td>\n",
       "    </tr>\n",
       "    <tr>\n",
       "      <th>1</th>\n",
       "      <td>Action</td>\n",
       "      <td>All</td>\n",
       "      <td>0.359497</td>\n",
       "      <td>0.737039</td>\n",
       "      <td>0.455710</td>\n",
       "    </tr>\n",
       "    <tr>\n",
       "      <th>2</th>\n",
       "      <td>Combined</td>\n",
       "      <td>All</td>\n",
       "      <td>0.330118</td>\n",
       "      <td>0.626946</td>\n",
       "      <td>0.481718</td>\n",
       "    </tr>\n",
       "  </tbody>\n",
       "</table>\n",
       "</div>"
      ],
      "text/plain": [
       "    speaker action_context  prob_truthful  prob_optimal_action  \\\n",
       "0    Belief            All       1.000000             0.482780   \n",
       "1    Action            All       0.359497             0.737039   \n",
       "2  Combined            All       0.330118             0.626946   \n",
       "\n",
       "   expected_rewards  \n",
       "0         -0.052623  \n",
       "1          0.455710  \n",
       "2          0.481718  "
      ]
     },
     "execution_count": 19,
     "metadata": {},
     "output_type": "execute_result"
    },
    {
     "data": {
      "image/png": "[encoded data removed]",
      "text/plain": [
       "<Figure size 432x288 with 2 Axes>"
      ]
     },
     "metadata": {
      "needs_background": "light"
     },
     "output_type": "display_data"
    }
   ],
   "source": [
    "demo_bandit = (('blue', 'square'), ('red', 'triangle'), ('red', 'circle'))\n",
    "demo_action_context = simulations.generate_context_from_actions(demo_bandit)\n",
    "\n",
    "df = simulations.speakers_utterance_probabilities_single_action_context(demo_action_context, exp_2_speakers, exp_2_utterances, exp_2_rewards)\n",
    "visualizations.heatmap_speaker_action_dataframe(df, exp_2_combined_speaker, exp_2_rewards, speaker_two=exp_2_action_speaker, vmax=.08, vmin=-.08)\n",
    "\n",
    "simulations.summarize_speakers_performance(df, exp_2_speakers)"
   ]
  },
  {
   "cell_type": "markdown",
   "metadata": {},
   "source": [
    "### Average over all possible bandit configurations"
   ]
  },
  {
   "cell_type": "code",
   "execution_count": 20,
   "metadata": {},
   "outputs": [
    {
     "name": "stdout",
     "output_type": "stream",
     "text": [
      "Evaluated over 84 bandit configurations.\n"
     ]
    }
   ],
   "source": [
    "exp_two_full_df = simulations.speaker_utterance_probabilities_multiple_action_contexts(exp_2_action_contexts, exp_2_speakers, exp_2_utterances, exp_2_rewards)\n",
    "\n",
    "print(\"Evaluated over {} bandit configurations.\".format(exp_two_full_df.action_context.nunique()))"
   ]
  },
  {
   "cell_type": "code",
   "execution_count": 21,
   "metadata": {},
   "outputs": [
    {
     "data": {
      "text/html": [
       "<div>\n",
       "<style scoped>\n",
       "    .dataframe tbody tr th:only-of-type {\n",
       "        vertical-align: middle;\n",
       "    }\n",
       "\n",
       "    .dataframe tbody tr th {\n",
       "        vertical-align: top;\n",
       "    }\n",
       "\n",
       "    .dataframe thead th {\n",
       "        text-align: right;\n",
       "    }\n",
       "</style>\n",
       "<table border=\"1\" class=\"dataframe\">\n",
       "  <thead>\n",
       "    <tr style=\"text-align: right;\">\n",
       "      <th></th>\n",
       "      <th>prob_truthful</th>\n",
       "      <th>prob_optimal_action</th>\n",
       "      <th>expected_rewards</th>\n",
       "    </tr>\n",
       "    <tr>\n",
       "      <th>speaker</th>\n",
       "      <th></th>\n",
       "      <th></th>\n",
       "      <th></th>\n",
       "    </tr>\n",
       "  </thead>\n",
       "  <tbody>\n",
       "    <tr>\n",
       "      <th>Action</th>\n",
       "      <td>0.329731</td>\n",
       "      <td>0.771643</td>\n",
       "      <td>1.184601</td>\n",
       "    </tr>\n",
       "    <tr>\n",
       "      <th>Belief</th>\n",
       "      <td>1.000000</td>\n",
       "      <td>0.499266</td>\n",
       "      <td>0.538652</td>\n",
       "    </tr>\n",
       "    <tr>\n",
       "      <th>Combined</th>\n",
       "      <td>0.359215</td>\n",
       "      <td>0.742426</td>\n",
       "      <td>1.275542</td>\n",
       "    </tr>\n",
       "  </tbody>\n",
       "</table>\n",
       "</div>"
      ],
      "text/plain": [
       "          prob_truthful  prob_optimal_action  expected_rewards\n",
       "speaker                                                       \n",
       "Action         0.329731             0.771643          1.184601\n",
       "Belief         1.000000             0.499266          0.538652\n",
       "Combined       0.359215             0.742426          1.275542"
      ]
     },
     "execution_count": 21,
     "metadata": {},
     "output_type": "execute_result"
    }
   ],
   "source": [
    "exp_two_local = simulations.summarize_speakers_performance(exp_two_full_df, speaker_list=exp_2_speakers)\n",
    "exp_two_local.groupby(\"speaker\").mean()"
   ]
  },
  {
   "cell_type": "code",
   "execution_count": 22,
   "metadata": {},
   "outputs": [
    {
     "data": {
      "text/html": [
       "<div>\n",
       "<style scoped>\n",
       "    .dataframe tbody tr th:only-of-type {\n",
       "        vertical-align: middle;\n",
       "    }\n",
       "\n",
       "    .dataframe tbody tr th {\n",
       "        vertical-align: top;\n",
       "    }\n",
       "\n",
       "    .dataframe thead th {\n",
       "        text-align: right;\n",
       "    }\n",
       "</style>\n",
       "<table border=\"1\" class=\"dataframe\">\n",
       "  <thead>\n",
       "    <tr style=\"text-align: right;\">\n",
       "      <th></th>\n",
       "      <th>speaker</th>\n",
       "      <th>action_context</th>\n",
       "      <th>prob_truthful</th>\n",
       "      <th>prob_optimal_action</th>\n",
       "      <th>expected_rewards</th>\n",
       "    </tr>\n",
       "  </thead>\n",
       "  <tbody>\n",
       "    <tr>\n",
       "      <th>0</th>\n",
       "      <td>Belief</td>\n",
       "      <td>All</td>\n",
       "      <td>1.000000</td>\n",
       "      <td>0.499266</td>\n",
       "      <td>0.538652</td>\n",
       "    </tr>\n",
       "    <tr>\n",
       "      <th>1</th>\n",
       "      <td>Action</td>\n",
       "      <td>All</td>\n",
       "      <td>0.329731</td>\n",
       "      <td>0.489996</td>\n",
       "      <td>0.485632</td>\n",
       "    </tr>\n",
       "    <tr>\n",
       "      <th>2</th>\n",
       "      <td>Combined</td>\n",
       "      <td>All</td>\n",
       "      <td>0.359215</td>\n",
       "      <td>0.499885</td>\n",
       "      <td>0.521622</td>\n",
       "    </tr>\n",
       "  </tbody>\n",
       "</table>\n",
       "</div>"
      ],
      "text/plain": [
       "    speaker action_context  prob_truthful  prob_optimal_action  \\\n",
       "0    Belief            All       1.000000             0.499266   \n",
       "1    Action            All       0.329731             0.489996   \n",
       "2  Combined            All       0.359215             0.499885   \n",
       "\n",
       "   expected_rewards  \n",
       "0          0.538652  \n",
       "1          0.485632  \n",
       "2          0.521622  "
      ]
     },
     "execution_count": 22,
     "metadata": {},
     "output_type": "execute_result"
    }
   ],
   "source": [
    "# Generalization: collapse utterance probabilities over action contexts, then evaluate expected rewards\n",
    "exp_two_utterance_probability_df = exp_two_full_df.groupby(\"utterance\").mean().reset_index()\n",
    "simulations.summarize_speakers_performance(exp_two_utterance_probability_df, exp_2_speakers)"
   ]
  },
  {
   "cell_type": "code",
   "execution_count": 23,
   "metadata": {},
   "outputs": [
    {
     "data": {
      "image/png": "[encoded data removed]",
      "text/plain": [
       "<Figure size 432x288 with 2 Axes>"
      ]
     },
     "metadata": {
      "needs_background": "light"
     },
     "output_type": "display_data"
    },
    {
     "data": {
      "image/png": "[encoded data removed]",
      "text/plain": [
       "<Figure size 432x288 with 2 Axes>"
      ]
     },
     "metadata": {
      "needs_background": "light"
     },
     "output_type": "display_data"
    },
    {
     "data": {
      "image/png": "[encoded data removed]",
      "text/plain": [
       "<Figure size 432x288 with 2 Axes>"
      ]
     },
     "metadata": {
      "needs_background": "light"
     },
     "output_type": "display_data"
    }
   ],
   "source": [
    "for s in exp_2_speakers:\n",
    "    visualizations.heatmap_speaker_action_dataframe(exp_two_full_df, s, exp_2_rewards, vmax=.18, cmap='Oranges')"
   ]
  },
  {
   "cell_type": "markdown",
   "metadata": {},
   "source": [
    "# Experiment 3: Full Context\n",
    "\n",
    "The speakers now choose an utterance while looking at **all 9** possible bandits, $\\cal{A}$. We generate utterance probabilities based on this single action context, then use the experiment 2 results and re-weight outcomes by the new distribution over utterances."
   ]
  },
  {
   "cell_type": "code",
   "execution_count": 24,
   "metadata": {},
   "outputs": [
    {
     "name": "stdout",
     "output_type": "stream",
     "text": [
      "[('blue', 'circle'), ('blue', 'square'), ('blue', 'triangle'), ('green', 'circle'), ('green', 'square'), ('green', 'triangle'), ('red', 'circle'), ('red', 'square'), ('red', 'triangle')]\n"
     ]
    },
    {
     "data": {
      "text/html": [
       "<div>\n",
       "<style scoped>\n",
       "    .dataframe tbody tr th:only-of-type {\n",
       "        vertical-align: middle;\n",
       "    }\n",
       "\n",
       "    .dataframe tbody tr th {\n",
       "        vertical-align: top;\n",
       "    }\n",
       "\n",
       "    .dataframe thead th {\n",
       "        text-align: right;\n",
       "    }\n",
       "</style>\n",
       "<table border=\"1\" class=\"dataframe\">\n",
       "  <thead>\n",
       "    <tr style=\"text-align: right;\">\n",
       "      <th></th>\n",
       "      <th>utterance</th>\n",
       "      <th>feature</th>\n",
       "      <th>value</th>\n",
       "      <th>truthful</th>\n",
       "      <th>Belief</th>\n",
       "      <th>Action</th>\n",
       "      <th>Combined</th>\n",
       "      <th>Belief_prob</th>\n",
       "      <th>Action_prob</th>\n",
       "      <th>Combined_prob</th>\n",
       "      <th>action_context</th>\n",
       "    </tr>\n",
       "  </thead>\n",
       "  <tbody>\n",
       "    <tr>\n",
       "      <th>0</th>\n",
       "      <td>(blue, 2)</td>\n",
       "      <td>blue</td>\n",
       "      <td>2</td>\n",
       "      <td>False</td>\n",
       "      <td>-23.025851</td>\n",
       "      <td>-7.103558</td>\n",
       "      <td>-1.985201</td>\n",
       "      <td>5.086263e-21</td>\n",
       "      <td>3.220013e-09</td>\n",
       "      <td>0.000143</td>\n",
       "      <td>['blue circle' 'blue square' 'blue triangle' '...</td>\n",
       "    </tr>\n",
       "    <tr>\n",
       "      <th>1</th>\n",
       "      <td>(blue, 0)</td>\n",
       "      <td>blue</td>\n",
       "      <td>0</td>\n",
       "      <td>False</td>\n",
       "      <td>-23.025851</td>\n",
       "      <td>-2.197225</td>\n",
       "      <td>0.000000</td>\n",
       "      <td>5.086263e-21</td>\n",
       "      <td>7.947630e-03</td>\n",
       "      <td>0.007575</td>\n",
       "      <td>['blue circle' 'blue square' 'blue triangle' '...</td>\n",
       "    </tr>\n",
       "    <tr>\n",
       "      <th>2</th>\n",
       "      <td>(blue, -2)</td>\n",
       "      <td>blue</td>\n",
       "      <td>-2</td>\n",
       "      <td>True</td>\n",
       "      <td>-8.047190</td>\n",
       "      <td>-1.792998</td>\n",
       "      <td>0.996286</td>\n",
       "      <td>1.666667e-01</td>\n",
       "      <td>2.672377e-02</td>\n",
       "      <td>0.055560</td>\n",
       "      <td>['blue circle' 'blue square' 'blue triangle' '...</td>\n",
       "    </tr>\n",
       "    <tr>\n",
       "      <th>3</th>\n",
       "      <td>(blue, 1)</td>\n",
       "      <td>blue</td>\n",
       "      <td>1</td>\n",
       "      <td>False</td>\n",
       "      <td>-23.025851</td>\n",
       "      <td>-4.193535</td>\n",
       "      <td>-1.728329</td>\n",
       "      <td>5.086263e-21</td>\n",
       "      <td>1.991946e-05</td>\n",
       "      <td>0.000239</td>\n",
       "      <td>['blue circle' 'blue square' 'blue triangle' '...</td>\n",
       "    </tr>\n",
       "    <tr>\n",
       "      <th>4</th>\n",
       "      <td>(blue, -1)</td>\n",
       "      <td>blue</td>\n",
       "      <td>-1</td>\n",
       "      <td>False</td>\n",
       "      <td>-23.025851</td>\n",
       "      <td>-1.816348</td>\n",
       "      <td>0.927133</td>\n",
       "      <td>5.086263e-21</td>\n",
       "      <td>2.491582e-02</td>\n",
       "      <td>0.048383</td>\n",
       "      <td>['blue circle' 'blue square' 'blue triangle' '...</td>\n",
       "    </tr>\n",
       "  </tbody>\n",
       "</table>\n",
       "</div>"
      ],
      "text/plain": [
       "    utterance feature  value  truthful     Belief    Action  Combined  \\\n",
       "0   (blue, 2)    blue      2     False -23.025851 -7.103558 -1.985201   \n",
       "1   (blue, 0)    blue      0     False -23.025851 -2.197225  0.000000   \n",
       "2  (blue, -2)    blue     -2      True  -8.047190 -1.792998  0.996286   \n",
       "3   (blue, 1)    blue      1     False -23.025851 -4.193535 -1.728329   \n",
       "4  (blue, -1)    blue     -1     False -23.025851 -1.816348  0.927133   \n",
       "\n",
       "    Belief_prob   Action_prob  Combined_prob  \\\n",
       "0  5.086263e-21  3.220013e-09       0.000143   \n",
       "1  5.086263e-21  7.947630e-03       0.007575   \n",
       "2  1.666667e-01  2.672377e-02       0.055560   \n",
       "3  5.086263e-21  1.991946e-05       0.000239   \n",
       "4  5.086263e-21  2.491582e-02       0.048383   \n",
       "\n",
       "                                      action_context  \n",
       "0  ['blue circle' 'blue square' 'blue triangle' '...  \n",
       "1  ['blue circle' 'blue square' 'blue triangle' '...  \n",
       "2  ['blue circle' 'blue square' 'blue triangle' '...  \n",
       "3  ['blue circle' 'blue square' 'blue triangle' '...  \n",
       "4  ['blue circle' 'blue square' 'blue triangle' '...  "
      ]
     },
     "execution_count": 24,
     "metadata": {},
     "output_type": "execute_result"
    }
   ],
   "source": [
    "print(exp_2_actions)\n",
    "\n",
    "exp_3_action_context = exp_2_actions\n",
    "exp_three_full_df = simulations.speaker_utterance_probabilities_multiple_action_contexts([exp_3_action_context], exp_2_speakers, exp_2_utterances, exp_2_rewards)\n",
    "exp_three_full_df.drop([\"expected_rewards\", \"prob_optimal_action\"], axis=1, inplace=True)\n",
    "\n",
    "exp_three_full_df.head()"
   ]
  },
  {
   "cell_type": "code",
   "execution_count": 25,
   "metadata": {},
   "outputs": [
    {
     "data": {
      "text/html": [
       "<div>\n",
       "<style scoped>\n",
       "    .dataframe tbody tr th:only-of-type {\n",
       "        vertical-align: middle;\n",
       "    }\n",
       "\n",
       "    .dataframe tbody tr th {\n",
       "        vertical-align: top;\n",
       "    }\n",
       "\n",
       "    .dataframe thead th {\n",
       "        text-align: right;\n",
       "    }\n",
       "</style>\n",
       "<table border=\"1\" class=\"dataframe\">\n",
       "  <thead>\n",
       "    <tr style=\"text-align: right;\">\n",
       "      <th></th>\n",
       "      <th>utterance</th>\n",
       "      <th>feature</th>\n",
       "      <th>value</th>\n",
       "      <th>truthful</th>\n",
       "      <th>Belief</th>\n",
       "      <th>Action</th>\n",
       "      <th>Combined</th>\n",
       "      <th>Belief_prob</th>\n",
       "      <th>Action_prob</th>\n",
       "      <th>Combined_prob</th>\n",
       "      <th>action_context</th>\n",
       "      <th>expected_rewards</th>\n",
       "      <th>prob_optimal_action</th>\n",
       "    </tr>\n",
       "  </thead>\n",
       "  <tbody>\n",
       "    <tr>\n",
       "      <th>0</th>\n",
       "      <td>(blue, 2)</td>\n",
       "      <td>blue</td>\n",
       "      <td>2</td>\n",
       "      <td>False</td>\n",
       "      <td>-23.025851</td>\n",
       "      <td>-7.103558</td>\n",
       "      <td>-1.985201</td>\n",
       "      <td>5.086263e-21</td>\n",
       "      <td>3.220013e-09</td>\n",
       "      <td>0.000143</td>\n",
       "      <td>['blue circle' 'blue square' 'blue triangle' '...</td>\n",
       "      <td>-1.276990e+00</td>\n",
       "      <td>0.104835</td>\n",
       "    </tr>\n",
       "    <tr>\n",
       "      <th>1</th>\n",
       "      <td>(blue, 0)</td>\n",
       "      <td>blue</td>\n",
       "      <td>0</td>\n",
       "      <td>False</td>\n",
       "      <td>-23.025851</td>\n",
       "      <td>-2.197225</td>\n",
       "      <td>0.000000</td>\n",
       "      <td>5.086263e-21</td>\n",
       "      <td>7.947630e-03</td>\n",
       "      <td>0.007575</td>\n",
       "      <td>['blue circle' 'blue square' 'blue triangle' '...</td>\n",
       "      <td>6.410216e-17</td>\n",
       "      <td>0.361111</td>\n",
       "    </tr>\n",
       "    <tr>\n",
       "      <th>2</th>\n",
       "      <td>(blue, -2)</td>\n",
       "      <td>blue</td>\n",
       "      <td>-2</td>\n",
       "      <td>True</td>\n",
       "      <td>-8.047190</td>\n",
       "      <td>-1.792998</td>\n",
       "      <td>0.996286</td>\n",
       "      <td>1.666667e-01</td>\n",
       "      <td>2.672377e-02</td>\n",
       "      <td>0.055560</td>\n",
       "      <td>['blue circle' 'blue square' 'blue triangle' '...</td>\n",
       "      <td>9.591251e-01</td>\n",
       "      <td>0.589918</td>\n",
       "    </tr>\n",
       "    <tr>\n",
       "      <th>3</th>\n",
       "      <td>(blue, 1)</td>\n",
       "      <td>blue</td>\n",
       "      <td>1</td>\n",
       "      <td>False</td>\n",
       "      <td>-23.025851</td>\n",
       "      <td>-4.193535</td>\n",
       "      <td>-1.728329</td>\n",
       "      <td>5.086263e-21</td>\n",
       "      <td>1.991946e-05</td>\n",
       "      <td>0.000239</td>\n",
       "      <td>['blue circle' 'blue square' 'blue triangle' '...</td>\n",
       "      <td>-1.124562e+00</td>\n",
       "      <td>0.133964</td>\n",
       "    </tr>\n",
       "    <tr>\n",
       "      <th>4</th>\n",
       "      <td>(blue, -1)</td>\n",
       "      <td>blue</td>\n",
       "      <td>-1</td>\n",
       "      <td>False</td>\n",
       "      <td>-23.025851</td>\n",
       "      <td>-1.816348</td>\n",
       "      <td>0.927133</td>\n",
       "      <td>5.086263e-21</td>\n",
       "      <td>2.491582e-02</td>\n",
       "      <td>0.048383</td>\n",
       "      <td>['blue circle' 'blue square' 'blue triangle' '...</td>\n",
       "      <td>8.670348e-01</td>\n",
       "      <td>0.566003</td>\n",
       "    </tr>\n",
       "  </tbody>\n",
       "</table>\n",
       "</div>"
      ],
      "text/plain": [
       "    utterance feature  value  truthful     Belief    Action  Combined  \\\n",
       "0   (blue, 2)    blue      2     False -23.025851 -7.103558 -1.985201   \n",
       "1   (blue, 0)    blue      0     False -23.025851 -2.197225  0.000000   \n",
       "2  (blue, -2)    blue     -2      True  -8.047190 -1.792998  0.996286   \n",
       "3   (blue, 1)    blue      1     False -23.025851 -4.193535 -1.728329   \n",
       "4  (blue, -1)    blue     -1     False -23.025851 -1.816348  0.927133   \n",
       "\n",
       "    Belief_prob   Action_prob  Combined_prob  \\\n",
       "0  5.086263e-21  3.220013e-09       0.000143   \n",
       "1  5.086263e-21  7.947630e-03       0.007575   \n",
       "2  1.666667e-01  2.672377e-02       0.055560   \n",
       "3  5.086263e-21  1.991946e-05       0.000239   \n",
       "4  5.086263e-21  2.491582e-02       0.048383   \n",
       "\n",
       "                                      action_context  expected_rewards  \\\n",
       "0  ['blue circle' 'blue square' 'blue triangle' '...     -1.276990e+00   \n",
       "1  ['blue circle' 'blue square' 'blue triangle' '...      6.410216e-17   \n",
       "2  ['blue circle' 'blue square' 'blue triangle' '...      9.591251e-01   \n",
       "3  ['blue circle' 'blue square' 'blue triangle' '...     -1.124562e+00   \n",
       "4  ['blue circle' 'blue square' 'blue triangle' '...      8.670348e-01   \n",
       "\n",
       "   prob_optimal_action  \n",
       "0             0.104835  \n",
       "1             0.361111  \n",
       "2             0.589918  \n",
       "3             0.133964  \n",
       "4             0.566003  "
      ]
     },
     "execution_count": 25,
     "metadata": {},
     "output_type": "execute_result"
    }
   ],
   "source": [
    "# Join Exp 3 utterance probabilities back to Exp 2 utterance outcomes\n",
    "exp_two_utterance_outcomes = exp_two_utterance_probability_df[[\"utterance\", \"expected_rewards\", \"prob_optimal_action\"]].set_index(\"utterance\")\n",
    "exp_three_results = exp_three_full_df.set_index(\"utterance\").join(exp_two_utterance_outcomes).reset_index()\n",
    "exp_three_results.head()"
   ]
  },
  {
   "cell_type": "code",
   "execution_count": 26,
   "metadata": {},
   "outputs": [
    {
     "data": {
      "text/html": [
       "<div>\n",
       "<style scoped>\n",
       "    .dataframe tbody tr th:only-of-type {\n",
       "        vertical-align: middle;\n",
       "    }\n",
       "\n",
       "    .dataframe tbody tr th {\n",
       "        vertical-align: top;\n",
       "    }\n",
       "\n",
       "    .dataframe thead th {\n",
       "        text-align: right;\n",
       "    }\n",
       "</style>\n",
       "<table border=\"1\" class=\"dataframe\">\n",
       "  <thead>\n",
       "    <tr style=\"text-align: right;\">\n",
       "      <th></th>\n",
       "      <th>speaker</th>\n",
       "      <th>action_context</th>\n",
       "      <th>prob_truthful</th>\n",
       "      <th>prob_optimal_action</th>\n",
       "      <th>expected_rewards</th>\n",
       "    </tr>\n",
       "  </thead>\n",
       "  <tbody>\n",
       "    <tr>\n",
       "      <th>0</th>\n",
       "      <td>Belief</td>\n",
       "      <td>['blue circle' 'blue square' 'blue triangle' '...</td>\n",
       "      <td>1.000000</td>\n",
       "      <td>0.499266</td>\n",
       "      <td>0.538652</td>\n",
       "    </tr>\n",
       "    <tr>\n",
       "      <th>1</th>\n",
       "      <td>Action</td>\n",
       "      <td>['blue circle' 'blue square' 'blue triangle' '...</td>\n",
       "      <td>0.440370</td>\n",
       "      <td>0.566147</td>\n",
       "      <td>0.748069</td>\n",
       "    </tr>\n",
       "    <tr>\n",
       "      <th>2</th>\n",
       "      <td>Combined</td>\n",
       "      <td>['blue circle' 'blue square' 'blue triangle' '...</td>\n",
       "      <td>0.534047</td>\n",
       "      <td>0.626699</td>\n",
       "      <td>0.948940</td>\n",
       "    </tr>\n",
       "  </tbody>\n",
       "</table>\n",
       "</div>"
      ],
      "text/plain": [
       "    speaker                                     action_context  prob_truthful  \\\n",
       "0    Belief  ['blue circle' 'blue square' 'blue triangle' '...       1.000000   \n",
       "1    Action  ['blue circle' 'blue square' 'blue triangle' '...       0.440370   \n",
       "2  Combined  ['blue circle' 'blue square' 'blue triangle' '...       0.534047   \n",
       "\n",
       "   prob_optimal_action  expected_rewards  \n",
       "0             0.499266          0.538652  \n",
       "1             0.566147          0.748069  \n",
       "2             0.626699          0.948940  "
      ]
     },
     "execution_count": 26,
     "metadata": {},
     "output_type": "execute_result"
    }
   ],
   "source": [
    "simulations.summarize_speakers_performance(exp_three_results, exp_2_speakers)"
   ]
  },
  {
   "cell_type": "code",
   "execution_count": 27,
   "metadata": {},
   "outputs": [
    {
     "data": {
      "image/png": "[encoded data removed]",
      "text/plain": [
       "<Figure size 432x288 with 2 Axes>"
      ]
     },
     "metadata": {
      "needs_background": "light"
     },
     "output_type": "display_data"
    },
    {
     "data": {
      "image/png": "[encoded data removed]",
      "text/plain": [
       "<Figure size 432x288 with 2 Axes>"
      ]
     },
     "metadata": {
      "needs_background": "light"
     },
     "output_type": "display_data"
    },
    {
     "data": {
      "image/png": "[encoded data removed]",
      "text/plain": [
       "<Figure size 432x288 with 2 Axes>"
      ]
     },
     "metadata": {
      "needs_background": "light"
     },
     "output_type": "display_data"
    }
   ],
   "source": [
    "for s in exp_2_speakers:\n",
    "    visualizations.heatmap_speaker_action_dataframe(exp_three_results, s, exp_2_rewards, cmap=\"Oranges\")"
   ]
  },
  {
   "cell_type": "markdown",
   "metadata": {},
   "source": [
    "# Optimal Speakers"
   ]
  },
  {
   "cell_type": "code",
   "execution_count": 28,
   "metadata": {},
   "outputs": [],
   "source": [
    "optimal_action_speaker = ActionSpeaker(exp_2_listener, beta=1e5, w=exp_2_rewards, name=\"OptimalAction\")\n",
    "optimal_combined_speaker = CombinedSpeaker(exp_2_listener, beta=1e5, w=exp_2_rewards, name=\"OptimalCombined\")\n",
    "optimal_belief_speaker = BeliefSpeaker(exp_2_listener, beta=1e5, w=exp_2_rewards, name=\"OptimalBelief\")"
   ]
  },
  {
   "cell_type": "code",
   "execution_count": 29,
   "metadata": {},
   "outputs": [],
   "source": [
    "optimal_speakers = [optimal_belief_speaker, optimal_action_speaker, optimal_combined_speaker]\n",
    "\n",
    "optimal_full_df = simulations.speaker_utterance_probabilities_multiple_action_contexts(exp_2_action_contexts, optimal_speakers, exp_2_utterances, exp_2_rewards)"
   ]
  },
  {
   "cell_type": "markdown",
   "metadata": {},
   "source": [
    "## Optimal - Experiment 2\n",
    "\n",
    "#### Local Results\n",
    "Optimal speakers do much better locally."
   ]
  },
  {
   "cell_type": "code",
   "execution_count": 30,
   "metadata": {},
   "outputs": [
    {
     "data": {
      "text/html": [
       "<div>\n",
       "<style scoped>\n",
       "    .dataframe tbody tr th:only-of-type {\n",
       "        vertical-align: middle;\n",
       "    }\n",
       "\n",
       "    .dataframe tbody tr th {\n",
       "        vertical-align: top;\n",
       "    }\n",
       "\n",
       "    .dataframe thead th {\n",
       "        text-align: right;\n",
       "    }\n",
       "</style>\n",
       "<table border=\"1\" class=\"dataframe\">\n",
       "  <thead>\n",
       "    <tr style=\"text-align: right;\">\n",
       "      <th></th>\n",
       "      <th>prob_truthful</th>\n",
       "      <th>prob_optimal_action</th>\n",
       "      <th>expected_rewards</th>\n",
       "    </tr>\n",
       "    <tr>\n",
       "      <th>speaker</th>\n",
       "      <th></th>\n",
       "      <th></th>\n",
       "      <th></th>\n",
       "    </tr>\n",
       "  </thead>\n",
       "  <tbody>\n",
       "    <tr>\n",
       "      <th>OptimalAction</th>\n",
       "      <td>0.458333</td>\n",
       "      <td>0.942236</td>\n",
       "      <td>1.630993</td>\n",
       "    </tr>\n",
       "    <tr>\n",
       "      <th>OptimalBelief</th>\n",
       "      <td>1.000000</td>\n",
       "      <td>0.499266</td>\n",
       "      <td>0.538652</td>\n",
       "    </tr>\n",
       "    <tr>\n",
       "      <th>OptimalCombined</th>\n",
       "      <td>0.488095</td>\n",
       "      <td>0.942236</td>\n",
       "      <td>1.666575</td>\n",
       "    </tr>\n",
       "  </tbody>\n",
       "</table>\n",
       "</div>"
      ],
      "text/plain": [
       "                 prob_truthful  prob_optimal_action  expected_rewards\n",
       "speaker                                                              \n",
       "OptimalAction         0.458333             0.942236          1.630993\n",
       "OptimalBelief         1.000000             0.499266          0.538652\n",
       "OptimalCombined       0.488095             0.942236          1.666575"
      ]
     },
     "execution_count": 30,
     "metadata": {},
     "output_type": "execute_result"
    }
   ],
   "source": [
    "optimal_local_speakers = simulations.summarize_speakers_performance(optimal_full_df, speaker_list=optimal_speakers)\n",
    "optimal_local_speakers.groupby(\"speaker\").mean()"
   ]
  },
  {
   "cell_type": "markdown",
   "metadata": {},
   "source": [
    "### Generalization\n",
    "But their generalization performance suffers still suffers."
   ]
  },
  {
   "cell_type": "code",
   "execution_count": 31,
   "metadata": {},
   "outputs": [
    {
     "data": {
      "text/html": [
       "<div>\n",
       "<style scoped>\n",
       "    .dataframe tbody tr th:only-of-type {\n",
       "        vertical-align: middle;\n",
       "    }\n",
       "\n",
       "    .dataframe tbody tr th {\n",
       "        vertical-align: top;\n",
       "    }\n",
       "\n",
       "    .dataframe thead th {\n",
       "        text-align: right;\n",
       "    }\n",
       "</style>\n",
       "<table border=\"1\" class=\"dataframe\">\n",
       "  <thead>\n",
       "    <tr style=\"text-align: right;\">\n",
       "      <th></th>\n",
       "      <th>speaker</th>\n",
       "      <th>action_context</th>\n",
       "      <th>prob_truthful</th>\n",
       "      <th>prob_optimal_action</th>\n",
       "      <th>expected_rewards</th>\n",
       "    </tr>\n",
       "  </thead>\n",
       "  <tbody>\n",
       "    <tr>\n",
       "      <th>0</th>\n",
       "      <td>OptimalBelief</td>\n",
       "      <td>All</td>\n",
       "      <td>1.000000</td>\n",
       "      <td>0.499266</td>\n",
       "      <td>0.538652</td>\n",
       "    </tr>\n",
       "    <tr>\n",
       "      <th>1</th>\n",
       "      <td>OptimalAction</td>\n",
       "      <td>All</td>\n",
       "      <td>0.458333</td>\n",
       "      <td>0.544040</td>\n",
       "      <td>0.690351</td>\n",
       "    </tr>\n",
       "    <tr>\n",
       "      <th>2</th>\n",
       "      <td>OptimalCombined</td>\n",
       "      <td>All</td>\n",
       "      <td>0.488095</td>\n",
       "      <td>0.550010</td>\n",
       "      <td>0.710317</td>\n",
       "    </tr>\n",
       "  </tbody>\n",
       "</table>\n",
       "</div>"
      ],
      "text/plain": [
       "           speaker action_context  prob_truthful  prob_optimal_action  \\\n",
       "0    OptimalBelief            All       1.000000             0.499266   \n",
       "1    OptimalAction            All       0.458333             0.544040   \n",
       "2  OptimalCombined            All       0.488095             0.550010   \n",
       "\n",
       "   expected_rewards  \n",
       "0          0.538652  \n",
       "1          0.690351  \n",
       "2          0.710317  "
      ]
     },
     "execution_count": 31,
     "metadata": {},
     "output_type": "execute_result"
    }
   ],
   "source": [
    "# Generalization: collapse utterance probabilities over action contexts, then evaluate expected rewards\n",
    "optimal_local_utterance_probability_df = optimal_full_df.groupby(\"utterance\").mean().reset_index()\n",
    "simulations.summarize_speakers_performance(optimal_local_utterance_probability_df, optimal_speakers)"
   ]
  },
  {
   "cell_type": "markdown",
   "metadata": {},
   "source": [
    "## Optimal - Experiment 3\n",
    "\n",
    "As before, use utterance-based outcomes from Experiment 2 and join in new distribution over utterances from global context."
   ]
  },
  {
   "cell_type": "code",
   "execution_count": 32,
   "metadata": {},
   "outputs": [
    {
     "data": {
      "text/html": [
       "<div>\n",
       "<style scoped>\n",
       "    .dataframe tbody tr th:only-of-type {\n",
       "        vertical-align: middle;\n",
       "    }\n",
       "\n",
       "    .dataframe tbody tr th {\n",
       "        vertical-align: top;\n",
       "    }\n",
       "\n",
       "    .dataframe thead th {\n",
       "        text-align: right;\n",
       "    }\n",
       "</style>\n",
       "<table border=\"1\" class=\"dataframe\">\n",
       "  <thead>\n",
       "    <tr style=\"text-align: right;\">\n",
       "      <th></th>\n",
       "      <th>speaker</th>\n",
       "      <th>action_context</th>\n",
       "      <th>prob_truthful</th>\n",
       "      <th>prob_optimal_action</th>\n",
       "      <th>expected_rewards</th>\n",
       "    </tr>\n",
       "  </thead>\n",
       "  <tbody>\n",
       "    <tr>\n",
       "      <th>0</th>\n",
       "      <td>OptimalBelief</td>\n",
       "      <td>['blue circle' 'blue square' 'blue triangle' '...</td>\n",
       "      <td>1.0</td>\n",
       "      <td>0.499266</td>\n",
       "      <td>0.538652</td>\n",
       "    </tr>\n",
       "    <tr>\n",
       "      <th>1</th>\n",
       "      <td>OptimalAction</td>\n",
       "      <td>['blue circle' 'blue square' 'blue triangle' '...</td>\n",
       "      <td>0.5</td>\n",
       "      <td>0.624145</td>\n",
       "      <td>0.957743</td>\n",
       "    </tr>\n",
       "    <tr>\n",
       "      <th>2</th>\n",
       "      <td>OptimalCombined</td>\n",
       "      <td>['blue circle' 'blue square' 'blue triangle' '...</td>\n",
       "      <td>1.0</td>\n",
       "      <td>0.731498</td>\n",
       "      <td>1.276990</td>\n",
       "    </tr>\n",
       "  </tbody>\n",
       "</table>\n",
       "</div>"
      ],
      "text/plain": [
       "           speaker                                     action_context  \\\n",
       "0    OptimalBelief  ['blue circle' 'blue square' 'blue triangle' '...   \n",
       "1    OptimalAction  ['blue circle' 'blue square' 'blue triangle' '...   \n",
       "2  OptimalCombined  ['blue circle' 'blue square' 'blue triangle' '...   \n",
       "\n",
       "   prob_truthful  prob_optimal_action  expected_rewards  \n",
       "0            1.0             0.499266          0.538652  \n",
       "1            0.5             0.624145          0.957743  \n",
       "2            1.0             0.731498          1.276990  "
      ]
     },
     "execution_count": 32,
     "metadata": {},
     "output_type": "execute_result"
    }
   ],
   "source": [
    "optimal_global_utterance_probability_df = simulations.speaker_utterance_probabilities_multiple_action_contexts([exp_3_action_context], optimal_speakers, exp_2_utterances, exp_2_rewards)\n",
    "optimal_global_utterance_probability_df.drop([\"expected_rewards\", \"prob_optimal_action\"], axis=1, inplace=True)\n",
    "\n",
    "exp_two_utterance_outcomes = exp_two_utterance_probability_df[[\"utterance\", \"expected_rewards\", \"prob_optimal_action\"]].set_index(\"utterance\")\n",
    "\n",
    "optimal_global_results = optimal_global_utterance_probability_df.set_index(\"utterance\").join(exp_two_utterance_outcomes).reset_index()\n",
    "\n",
    "simulations.summarize_speakers_performance(optimal_global_results, optimal_speakers)"
   ]
  }
 ],
 "metadata": {
  "kernelspec": {
   "display_name": "Python 3",
   "language": "python",
   "name": "python3"
  },
  "language_info": {
   "codemirror_mode": {
    "name": "ipython",
    "version": 3
   },
   "file_extension": ".py",
   "mimetype": "text/x-python",
   "name": "python",
   "nbconvert_exporter": "python",
   "pygments_lexer": "ipython3",
   "version": "3.7.10"
  }
 },
 "nbformat": 4,
 "nbformat_minor": 4
}
